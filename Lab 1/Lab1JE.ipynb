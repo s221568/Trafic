{
 "cells": [
  {
   "cell_type": "code",
   "execution_count": 148,
   "metadata": {},
   "outputs": [],
   "source": [
    "import networkx as nx\n",
    "import matplotlib.pyplot as plt\n",
    "import matplotlib as mpl\n",
    "import pandas as pd\n",
    "import numpy as np"
   ]
  },
  {
   "cell_type": "markdown",
   "metadata": {},
   "source": [
    "# LAB 1"
   ]
  },
  {
   "cell_type": "code",
   "execution_count": 168,
   "metadata": {},
   "outputs": [],
   "source": [
    "nodes = pd.read_csv('Documentation/nodes.csv', header=None, names=[\"Node\",\"x_position\",\"y_position\"], index_col=0)\n",
    "edges = pd.read_csv('Documentation/links.csv', header=None, names=[\n",
    "    \"Link ID\", \n",
    "    \"Length (m)\",\n",
    "    \"Number of lanes\", \n",
    "    \"Starting node ID\",\n",
    "    \"Ending node ID\", \n",
    "    \"Region\"], index_col=0)\n",
    "occupancy = pd.read_csv('Documentation/occupancy.csv', index_col = 0)\n",
    "\n",
    "time_in_min = 60\n",
    "time = time_in_min * 60\n",
    "occupancy_at_t = occupancy.loc[time]\n",
    "occupancy_at_t.name = f\"Occupancy at time {time}\"\n",
    "color_at_t = occupancy_at_t/100\n",
    "color_at_t.name = f\"Colors in gray scale at time {time}\"\n",
    "color_at_t = color_at_t.astype(str)\n",
    "\n",
    "edges_at_t = edges\n",
    "edges_at_t[\"Occupancy\"] = occupancy_at_t.values\n",
    "edges_at_t[\"Color\"] = color_at_t\n",
    "edges_at_t = edges_at_t.replace(np.nan,1)"
   ]
  },
  {
   "cell_type": "code",
   "execution_count": 170,
   "metadata": {},
   "outputs": [
    {
     "ename": "ValueError",
     "evalue": "Received invalid argument(s): arrow_size",
     "output_type": "error",
     "traceback": [
      "\u001b[0;31m---------------------------------------------------------------------------\u001b[0m",
      "\u001b[0;31mValueError\u001b[0m                                Traceback (most recent call last)",
      "\u001b[1;32m/Users/jeremieengler/Documents/Travail cloud/EPFL/MA1/Fondamentals of transport/Trafic/Lab 1/Lab1JE.ipynb Cell 4\u001b[0m line \u001b[0;36m3\n\u001b[1;32m      <a href='vscode-notebook-cell:/Users/jeremieengler/Documents/Travail%20cloud/EPFL/MA1/Fondamentals%20of%20transport/Trafic/Lab%201/Lab1JE.ipynb#X12sZmlsZQ%3D%3D?line=0'>1</a>\u001b[0m G \u001b[39m=\u001b[39m nx\u001b[39m.\u001b[39mfrom_pandas_edgelist(edges_at_t, create_using \u001b[39m=\u001b[39m nx\u001b[39m.\u001b[39mMultiDiGraph, source \u001b[39m=\u001b[39m \u001b[39m\"\u001b[39m\u001b[39mStarting node ID\u001b[39m\u001b[39m\"\u001b[39m, target\u001b[39m=\u001b[39m \u001b[39m\"\u001b[39m\u001b[39mEnding node ID\u001b[39m\u001b[39m\"\u001b[39m, edge_attr\u001b[39m=\u001b[39m[\u001b[39m\"\u001b[39m\u001b[39mLength (m)\u001b[39m\u001b[39m\"\u001b[39m, \u001b[39m\"\u001b[39m\u001b[39mNumber of lanes\u001b[39m\u001b[39m\"\u001b[39m, \u001b[39m\"\u001b[39m\u001b[39mRegion\u001b[39m\u001b[39m\"\u001b[39m,\u001b[39m\"\u001b[39m\u001b[39mOccupancy\u001b[39m\u001b[39m\"\u001b[39m,\u001b[39m\"\u001b[39m\u001b[39mColor\u001b[39m\u001b[39m\"\u001b[39m])\n\u001b[0;32m----> <a href='vscode-notebook-cell:/Users/jeremieengler/Documents/Travail%20cloud/EPFL/MA1/Fondamentals%20of%20transport/Trafic/Lab%201/Lab1JE.ipynb#X12sZmlsZQ%3D%3D?line=2'>3</a>\u001b[0m nx\u001b[39m.\u001b[39;49mdraw(G, arrow_size \u001b[39m=\u001b[39;49m \u001b[39m1000\u001b[39;49m, node_size \u001b[39m=\u001b[39;49m \u001b[39m1\u001b[39;49m, pos\u001b[39m=\u001b[39;49mnodes\u001b[39m.\u001b[39;49mtranspose(), edge_cmap \u001b[39m=\u001b[39;49m mpl\u001b[39m.\u001b[39;49mcolormaps[\u001b[39m'\u001b[39;49m\u001b[39mGreys\u001b[39;49m\u001b[39m'\u001b[39;49m], edge_color \u001b[39m=\u001b[39;49m color_at_t)\n\u001b[1;32m      <a href='vscode-notebook-cell:/Users/jeremieengler/Documents/Travail%20cloud/EPFL/MA1/Fondamentals%20of%20transport/Trafic/Lab%201/Lab1JE.ipynb#X12sZmlsZQ%3D%3D?line=3'>4</a>\u001b[0m plt\u001b[39m.\u001b[39mshow()\n",
      "File \u001b[0;32m/Library/Frameworks/Python.framework/Versions/3.11/lib/python3.11/site-packages/networkx/drawing/nx_pylab.py:121\u001b[0m, in \u001b[0;36mdraw\u001b[0;34m(G, pos, ax, **kwds)\u001b[0m\n\u001b[1;32m    118\u001b[0m \u001b[39mif\u001b[39;00m \u001b[39m\"\u001b[39m\u001b[39mwith_labels\u001b[39m\u001b[39m\"\u001b[39m \u001b[39mnot\u001b[39;00m \u001b[39min\u001b[39;00m kwds:\n\u001b[1;32m    119\u001b[0m     kwds[\u001b[39m\"\u001b[39m\u001b[39mwith_labels\u001b[39m\u001b[39m\"\u001b[39m] \u001b[39m=\u001b[39m \u001b[39m\"\u001b[39m\u001b[39mlabels\u001b[39m\u001b[39m\"\u001b[39m \u001b[39min\u001b[39;00m kwds\n\u001b[0;32m--> 121\u001b[0m draw_networkx(G, pos\u001b[39m=\u001b[39;49mpos, ax\u001b[39m=\u001b[39;49max, \u001b[39m*\u001b[39;49m\u001b[39m*\u001b[39;49mkwds)\n\u001b[1;32m    122\u001b[0m ax\u001b[39m.\u001b[39mset_axis_off()\n\u001b[1;32m    123\u001b[0m plt\u001b[39m.\u001b[39mdraw_if_interactive()\n",
      "File \u001b[0;32m/Library/Frameworks/Python.framework/Versions/3.11/lib/python3.11/site-packages/networkx/drawing/nx_pylab.py:294\u001b[0m, in \u001b[0;36mdraw_networkx\u001b[0;34m(G, pos, arrows, with_labels, **kwds)\u001b[0m\n\u001b[1;32m    292\u001b[0m \u001b[39mif\u001b[39;00m \u001b[39many\u001b[39m(k \u001b[39mnot\u001b[39;00m \u001b[39min\u001b[39;00m valid_kwds \u001b[39mfor\u001b[39;00m k \u001b[39min\u001b[39;00m kwds):\n\u001b[1;32m    293\u001b[0m     invalid_args \u001b[39m=\u001b[39m \u001b[39m\"\u001b[39m\u001b[39m, \u001b[39m\u001b[39m\"\u001b[39m\u001b[39m.\u001b[39mjoin([k \u001b[39mfor\u001b[39;00m k \u001b[39min\u001b[39;00m kwds \u001b[39mif\u001b[39;00m k \u001b[39mnot\u001b[39;00m \u001b[39min\u001b[39;00m valid_kwds])\n\u001b[0;32m--> 294\u001b[0m     \u001b[39mraise\u001b[39;00m \u001b[39mValueError\u001b[39;00m(\u001b[39mf\u001b[39m\u001b[39m\"\u001b[39m\u001b[39mReceived invalid argument(s): \u001b[39m\u001b[39m{\u001b[39;00minvalid_args\u001b[39m}\u001b[39;00m\u001b[39m\"\u001b[39m)\n\u001b[1;32m    296\u001b[0m node_kwds \u001b[39m=\u001b[39m {k: v \u001b[39mfor\u001b[39;00m k, v \u001b[39min\u001b[39;00m kwds\u001b[39m.\u001b[39mitems() \u001b[39mif\u001b[39;00m k \u001b[39min\u001b[39;00m valid_node_kwds}\n\u001b[1;32m    297\u001b[0m edge_kwds \u001b[39m=\u001b[39m {k: v \u001b[39mfor\u001b[39;00m k, v \u001b[39min\u001b[39;00m kwds\u001b[39m.\u001b[39mitems() \u001b[39mif\u001b[39;00m k \u001b[39min\u001b[39;00m valid_edge_kwds}\n",
      "\u001b[0;31mValueError\u001b[0m: Received invalid argument(s): arrow_size"
     ]
    },
    {
     "data": {
      "image/png": "[encoded data removed]",
      "text/plain": [
       "<Figure size 640x480 with 1 Axes>"
      ]
     },
     "metadata": {},
     "output_type": "display_data"
    }
   ],
   "source": [
    "G = nx.from_pandas_edgelist(edges_at_t, create_using = nx.MultiDiGraph, source = \"Starting node ID\", target= \"Ending node ID\", edge_attr=[\"Length (m)\", \"Number of lanes\", \"Region\",\"Occupancy\",\"Color\"])\n",
    "\n",
    "nx.draw(G, arrow_size = 1000, node_size = 1, pos=nodes.transpose(), edge_cmap = mpl.colormaps['Greys'], edge_color = color_at_t)\n",
    "plt.show()"
   ]
  },
  {
   "cell_type": "markdown",
   "metadata": {},
   "source": [
    "# Old versions"
   ]
  },
  {
   "cell_type": "code",
   "execution_count": null,
   "metadata": {},
   "outputs": [],
   "source": [
    "import networkx as nx\n",
    "import matplotlib.pyplot as plt\n",
    "import pandas as pd\n",
    "import csv\n",
    "\n",
    "def printgraph(x,y,xname,yname,unit1, unit2):\n",
    "    plt.plot(x,y,'o')\n",
    "    plt.plot(x,y,'b')\n",
    "\n",
    "    plt.title(f'{yname} as a function of {xname}')\n",
    "    plt.xlabel(f\"{xname} ({unit1})\")\n",
    "    plt.ylabel(f\"{yname} ({unit2})\")\n",
    "\n",
    "    plt.show()\n",
    "\n",
    "    return None\n",
    "\n",
    "graph_type = nx.Graph()\n",
    "\n",
    "nodes = pd.read_csv('Documentation/nodes.csv', header=None)\n",
    "nodes.columns = [\"Node ID\", \"x_coordinate\", \"y_coordinate\"]\n",
    "nodescoordinates = nodes.iloc[:,1:]\n",
    "nodesid = nodes.iloc[:,0]\n",
    "\n",
    "links = pd.read_csv('Documentation/links.csv', header=None)\n",
    "links.columns = [\"Link ID\", \"Lenght\", \"Number of lanes\", \"Starting node ID\", \"Ending node ID\", \"Region\"]\n",
    "\n",
    "couple = pd.Series\n",
    "\n",
    "#G = nx.from_pandas_edgelist(nodesid, source='x_coordinate', target='y_coordinate', create_using=graph_type)\n",
    "\n",
    "G = nx.Graph()\n",
    "\n",
    "G.add_nodes_from(nodes[\"Node ID\"])\n",
    "# G.add_edges_from(links[])\n",
    "\n",
    "axes = plt.axes()\n",
    "\n",
    "nx.draw(G, ax = axes)\n",
    "\n",
    "# printgraph()\n",
    "\n",
    "# print(\"test\")\n"
   ]
  },
  {
   "cell_type": "code",
   "execution_count": 13,
   "metadata": {},
   "outputs": [
    {
     "data": {
      "image/png": "[encoded data removed]",
      "text/plain": [
       "<Figure size 640x480 with 1 Axes>"
      ]
     },
     "metadata": {},
     "output_type": "display_data"
    }
   ],
   "source": [
    "edges = pd.DataFrame(\n",
    "    {\n",
    "        \"source\": [0, 1, 2, 0],\n",
    "        \"target\": [2, 2, 3, 2],\n",
    "        \"my_edge_key\": [\"A\", \"B\", \"C\", \"D\"],\n",
    "        \"weight\": [3, 4, 5, 6],\n",
    "        \"color\": [\"red\", \"blue\", \"blue\", \"blue\"],\n",
    "    }\n",
    ")\n",
    "G = nx.from_pandas_edgelist(\n",
    "    edges,\n",
    "    edge_key=\"my_edge_key\",\n",
    "    edge_attr=[\"weight\", \"color\"],\n",
    "    create_using=nx.MultiGraph(),\n",
    ")\n",
    "G[0][2]\n",
    "\n",
    "nx.draw(G)\n",
    "plt.show()"
   ]
  },
  {
   "cell_type": "code",
   "execution_count": null,
   "metadata": {},
   "outputs": [],
   "source": []
  }
 ],
 "metadata": {
  "kernelspec": {
   "display_name": "Python 3",
   "language": "python",
   "name": "python3"
  },
  "language_info": {
   "codemirror_mode": {
    "name": "ipython",
    "version": 3
   },
   "file_extension": ".py",
   "mimetype": "text/x-python",
   "name": "python",
   "nbconvert_exporter": "python",
   "pygments_lexer": "ipython3",
   "version": "3.11.5"
  },
  "orig_nbformat": 4
 },
 "nbformat": 4,
 "nbformat_minor": 2
}
